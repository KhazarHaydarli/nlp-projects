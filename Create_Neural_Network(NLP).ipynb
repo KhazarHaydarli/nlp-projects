{
  "cells": [
    {
      "cell_type": "code",
      "execution_count": 1,
      "metadata": {
        "execution": {
          "iopub.execute_input": "2022-04-21T07:47:39.215952Z",
          "iopub.status.busy": "2022-04-21T07:47:39.215143Z",
          "iopub.status.idle": "2022-04-21T07:47:39.221109Z",
          "shell.execute_reply": "2022-04-21T07:47:39.220374Z",
          "shell.execute_reply.started": "2022-04-21T07:47:39.215900Z"
        },
        "id": "1-HXa2nr_9yf"
      },
      "outputs": [],
      "source": [
        "import pandas as pd"
      ]
    },
    {
      "cell_type": "code",
      "execution_count": 2,
      "metadata": {
        "execution": {
          "iopub.execute_input": "2022-04-21T07:47:40.007404Z",
          "iopub.status.busy": "2022-04-21T07:47:40.006839Z",
          "iopub.status.idle": "2022-04-21T07:47:41.346338Z",
          "shell.execute_reply": "2022-04-21T07:47:41.345005Z",
          "shell.execute_reply.started": "2022-04-21T07:47:40.007354Z"
        },
        "colab": {
          "base_uri": "https://localhost:8080/",
          "height": 600
        },
        "id": "s1HTcGp-_9yi",
        "outputId": "8974731c-a8a7-4419-ef2f-0fa5f0a06749"
      },
      "outputs": [
        {
          "output_type": "execute_result",
          "data": {
            "text/plain": [
              "   job_id                                      title            location  \\\n",
              "0       1                           Marketing Intern    US, NY, New York   \n",
              "1       2  Customer Service - Cloud Video Production      NZ, , Auckland   \n",
              "2       3    Commissioning Machinery Assistant (CMA)       US, IA, Wever   \n",
              "3       4          Account Executive - Washington DC  US, DC, Washington   \n",
              "4       5                        Bill Review Manager  US, FL, Fort Worth   \n",
              "\n",
              "  department salary_range                                    company_profile  \\\n",
              "0  Marketing          NaN  We're Food52, and we've created a groundbreaki...   \n",
              "1    Success          NaN  90 Seconds, the worlds Cloud Video Production ...   \n",
              "2        NaN          NaN  Valor Services provides Workforce Solutions th...   \n",
              "3      Sales          NaN  Our passion for improving quality of life thro...   \n",
              "4        NaN          NaN  SpotSource Solutions LLC is a Global Human Cap...   \n",
              "\n",
              "                                         description  \\\n",
              "0  Food52, a fast-growing, James Beard Award-winn...   \n",
              "1  Organised - Focused - Vibrant - Awesome!Do you...   \n",
              "2  Our client, located in Houston, is actively se...   \n",
              "3  THE COMPANY: ESRI – Environmental Systems Rese...   \n",
              "4  JOB TITLE: Itemization Review ManagerLOCATION:...   \n",
              "\n",
              "                                        requirements  \\\n",
              "0  Experience with content management systems a m...   \n",
              "1  What we expect from you:Your key responsibilit...   \n",
              "2  Implement pre-commissioning and commissioning ...   \n",
              "3  EDUCATION: Bachelor’s or Master’s in GIS, busi...   \n",
              "4  QUALIFICATIONS:RN license in the State of Texa...   \n",
              "\n",
              "                                            benefits  telecommuting  \\\n",
              "0                                                NaN              0   \n",
              "1  What you will get from usThrough being part of...              0   \n",
              "2                                                NaN              0   \n",
              "3  Our culture is anything but corporate—we have ...              0   \n",
              "4                              Full Benefits Offered              0   \n",
              "\n",
              "   has_company_logo  has_questions employment_type required_experience  \\\n",
              "0                 1              0           Other          Internship   \n",
              "1                 1              0       Full-time      Not Applicable   \n",
              "2                 1              0             NaN                 NaN   \n",
              "3                 1              0       Full-time    Mid-Senior level   \n",
              "4                 1              1       Full-time    Mid-Senior level   \n",
              "\n",
              "  required_education                   industry              function  \\\n",
              "0                NaN                        NaN             Marketing   \n",
              "1                NaN  Marketing and Advertising      Customer Service   \n",
              "2                NaN                        NaN                   NaN   \n",
              "3  Bachelor's Degree          Computer Software                 Sales   \n",
              "4  Bachelor's Degree     Hospital & Health Care  Health Care Provider   \n",
              "\n",
              "   fraudulent  \n",
              "0           0  \n",
              "1           0  \n",
              "2           0  \n",
              "3           0  \n",
              "4           0  "
            ],
            "text/html": [
              "\n",
              "  <div id=\"df-2be3c3d4-5bb3-4d76-a715-1f2d70122678\">\n",
              "    <div class=\"colab-df-container\">\n",
              "      <div>\n",
              "<style scoped>\n",
              "    .dataframe tbody tr th:only-of-type {\n",
              "        vertical-align: middle;\n",
              "    }\n",
              "\n",
              "    .dataframe tbody tr th {\n",
              "        vertical-align: top;\n",
              "    }\n",
              "\n",
              "    .dataframe thead th {\n",
              "        text-align: right;\n",
              "    }\n",
              "</style>\n",
              "<table border=\"1\" class=\"dataframe\">\n",
              "  <thead>\n",
              "    <tr style=\"text-align: right;\">\n",
              "      <th></th>\n",
              "      <th>job_id</th>\n",
              "      <th>title</th>\n",
              "      <th>location</th>\n",
              "      <th>department</th>\n",
              "      <th>salary_range</th>\n",
              "      <th>company_profile</th>\n",
              "      <th>description</th>\n",
              "      <th>requirements</th>\n",
              "      <th>benefits</th>\n",
              "      <th>telecommuting</th>\n",
              "      <th>has_company_logo</th>\n",
              "      <th>has_questions</th>\n",
              "      <th>employment_type</th>\n",
              "      <th>required_experience</th>\n",
              "      <th>required_education</th>\n",
              "      <th>industry</th>\n",
              "      <th>function</th>\n",
              "      <th>fraudulent</th>\n",
              "    </tr>\n",
              "  </thead>\n",
              "  <tbody>\n",
              "    <tr>\n",
              "      <th>0</th>\n",
              "      <td>1</td>\n",
              "      <td>Marketing Intern</td>\n",
              "      <td>US, NY, New York</td>\n",
              "      <td>Marketing</td>\n",
              "      <td>NaN</td>\n",
              "      <td>We're Food52, and we've created a groundbreaki...</td>\n",
              "      <td>Food52, a fast-growing, James Beard Award-winn...</td>\n",
              "      <td>Experience with content management systems a m...</td>\n",
              "      <td>NaN</td>\n",
              "      <td>0</td>\n",
              "      <td>1</td>\n",
              "      <td>0</td>\n",
              "      <td>Other</td>\n",
              "      <td>Internship</td>\n",
              "      <td>NaN</td>\n",
              "      <td>NaN</td>\n",
              "      <td>Marketing</td>\n",
              "      <td>0</td>\n",
              "    </tr>\n",
              "    <tr>\n",
              "      <th>1</th>\n",
              "      <td>2</td>\n",
              "      <td>Customer Service - Cloud Video Production</td>\n",
              "      <td>NZ, , Auckland</td>\n",
              "      <td>Success</td>\n",
              "      <td>NaN</td>\n",
              "      <td>90 Seconds, the worlds Cloud Video Production ...</td>\n",
              "      <td>Organised - Focused - Vibrant - Awesome!Do you...</td>\n",
              "      <td>What we expect from you:Your key responsibilit...</td>\n",
              "      <td>What you will get from usThrough being part of...</td>\n",
              "      <td>0</td>\n",
              "      <td>1</td>\n",
              "      <td>0</td>\n",
              "      <td>Full-time</td>\n",
              "      <td>Not Applicable</td>\n",
              "      <td>NaN</td>\n",
              "      <td>Marketing and Advertising</td>\n",
              "      <td>Customer Service</td>\n",
              "      <td>0</td>\n",
              "    </tr>\n",
              "    <tr>\n",
              "      <th>2</th>\n",
              "      <td>3</td>\n",
              "      <td>Commissioning Machinery Assistant (CMA)</td>\n",
              "      <td>US, IA, Wever</td>\n",
              "      <td>NaN</td>\n",
              "      <td>NaN</td>\n",
              "      <td>Valor Services provides Workforce Solutions th...</td>\n",
              "      <td>Our client, located in Houston, is actively se...</td>\n",
              "      <td>Implement pre-commissioning and commissioning ...</td>\n",
              "      <td>NaN</td>\n",
              "      <td>0</td>\n",
              "      <td>1</td>\n",
              "      <td>0</td>\n",
              "      <td>NaN</td>\n",
              "      <td>NaN</td>\n",
              "      <td>NaN</td>\n",
              "      <td>NaN</td>\n",
              "      <td>NaN</td>\n",
              "      <td>0</td>\n",
              "    </tr>\n",
              "    <tr>\n",
              "      <th>3</th>\n",
              "      <td>4</td>\n",
              "      <td>Account Executive - Washington DC</td>\n",
              "      <td>US, DC, Washington</td>\n",
              "      <td>Sales</td>\n",
              "      <td>NaN</td>\n",
              "      <td>Our passion for improving quality of life thro...</td>\n",
              "      <td>THE COMPANY: ESRI – Environmental Systems Rese...</td>\n",
              "      <td>EDUCATION: Bachelor’s or Master’s in GIS, busi...</td>\n",
              "      <td>Our culture is anything but corporate—we have ...</td>\n",
              "      <td>0</td>\n",
              "      <td>1</td>\n",
              "      <td>0</td>\n",
              "      <td>Full-time</td>\n",
              "      <td>Mid-Senior level</td>\n",
              "      <td>Bachelor's Degree</td>\n",
              "      <td>Computer Software</td>\n",
              "      <td>Sales</td>\n",
              "      <td>0</td>\n",
              "    </tr>\n",
              "    <tr>\n",
              "      <th>4</th>\n",
              "      <td>5</td>\n",
              "      <td>Bill Review Manager</td>\n",
              "      <td>US, FL, Fort Worth</td>\n",
              "      <td>NaN</td>\n",
              "      <td>NaN</td>\n",
              "      <td>SpotSource Solutions LLC is a Global Human Cap...</td>\n",
              "      <td>JOB TITLE: Itemization Review ManagerLOCATION:...</td>\n",
              "      <td>QUALIFICATIONS:RN license in the State of Texa...</td>\n",
              "      <td>Full Benefits Offered</td>\n",
              "      <td>0</td>\n",
              "      <td>1</td>\n",
              "      <td>1</td>\n",
              "      <td>Full-time</td>\n",
              "      <td>Mid-Senior level</td>\n",
              "      <td>Bachelor's Degree</td>\n",
              "      <td>Hospital &amp; Health Care</td>\n",
              "      <td>Health Care Provider</td>\n",
              "      <td>0</td>\n",
              "    </tr>\n",
              "  </tbody>\n",
              "</table>\n",
              "</div>\n",
              "      <button class=\"colab-df-convert\" onclick=\"convertToInteractive('df-2be3c3d4-5bb3-4d76-a715-1f2d70122678')\"\n",
              "              title=\"Convert this dataframe to an interactive table.\"\n",
              "              style=\"display:none;\">\n",
              "        \n",
              "  <svg xmlns=\"http://www.w3.org/2000/svg\" height=\"24px\"viewBox=\"0 0 24 24\"\n",
              "       width=\"24px\">\n",
              "    <path d=\"M0 0h24v24H0V0z\" fill=\"none\"/>\n",
              "    <path d=\"M18.56 5.44l.94 2.06.94-2.06 2.06-.94-2.06-.94-.94-2.06-.94 2.06-2.06.94zm-11 1L8.5 8.5l.94-2.06 2.06-.94-2.06-.94L8.5 2.5l-.94 2.06-2.06.94zm10 10l.94 2.06.94-2.06 2.06-.94-2.06-.94-.94-2.06-.94 2.06-2.06.94z\"/><path d=\"M17.41 7.96l-1.37-1.37c-.4-.4-.92-.59-1.43-.59-.52 0-1.04.2-1.43.59L10.3 9.45l-7.72 7.72c-.78.78-.78 2.05 0 2.83L4 21.41c.39.39.9.59 1.41.59.51 0 1.02-.2 1.41-.59l7.78-7.78 2.81-2.81c.8-.78.8-2.07 0-2.86zM5.41 20L4 18.59l7.72-7.72 1.47 1.35L5.41 20z\"/>\n",
              "  </svg>\n",
              "      </button>\n",
              "      \n",
              "  <style>\n",
              "    .colab-df-container {\n",
              "      display:flex;\n",
              "      flex-wrap:wrap;\n",
              "      gap: 12px;\n",
              "    }\n",
              "\n",
              "    .colab-df-convert {\n",
              "      background-color: #E8F0FE;\n",
              "      border: none;\n",
              "      border-radius: 50%;\n",
              "      cursor: pointer;\n",
              "      display: none;\n",
              "      fill: #1967D2;\n",
              "      height: 32px;\n",
              "      padding: 0 0 0 0;\n",
              "      width: 32px;\n",
              "    }\n",
              "\n",
              "    .colab-df-convert:hover {\n",
              "      background-color: #E2EBFA;\n",
              "      box-shadow: 0px 1px 2px rgba(60, 64, 67, 0.3), 0px 1px 3px 1px rgba(60, 64, 67, 0.15);\n",
              "      fill: #174EA6;\n",
              "    }\n",
              "\n",
              "    [theme=dark] .colab-df-convert {\n",
              "      background-color: #3B4455;\n",
              "      fill: #D2E3FC;\n",
              "    }\n",
              "\n",
              "    [theme=dark] .colab-df-convert:hover {\n",
              "      background-color: #434B5C;\n",
              "      box-shadow: 0px 1px 3px 1px rgba(0, 0, 0, 0.15);\n",
              "      filter: drop-shadow(0px 1px 2px rgba(0, 0, 0, 0.3));\n",
              "      fill: #FFFFFF;\n",
              "    }\n",
              "  </style>\n",
              "\n",
              "      <script>\n",
              "        const buttonEl =\n",
              "          document.querySelector('#df-2be3c3d4-5bb3-4d76-a715-1f2d70122678 button.colab-df-convert');\n",
              "        buttonEl.style.display =\n",
              "          google.colab.kernel.accessAllowed ? 'block' : 'none';\n",
              "\n",
              "        async function convertToInteractive(key) {\n",
              "          const element = document.querySelector('#df-2be3c3d4-5bb3-4d76-a715-1f2d70122678');\n",
              "          const dataTable =\n",
              "            await google.colab.kernel.invokeFunction('convertToInteractive',\n",
              "                                                     [key], {});\n",
              "          if (!dataTable) return;\n",
              "\n",
              "          const docLinkHtml = 'Like what you see? Visit the ' +\n",
              "            '<a target=\"_blank\" href=https://colab.research.google.com/notebooks/data_table.ipynb>data table notebook</a>'\n",
              "            + ' to learn more about interactive tables.';\n",
              "          element.innerHTML = '';\n",
              "          dataTable['output_type'] = 'display_data';\n",
              "          await google.colab.output.renderOutput(dataTable, element);\n",
              "          const docLink = document.createElement('div');\n",
              "          docLink.innerHTML = docLinkHtml;\n",
              "          element.appendChild(docLink);\n",
              "        }\n",
              "      </script>\n",
              "    </div>\n",
              "  </div>\n",
              "  "
            ]
          },
          "metadata": {},
          "execution_count": 2
        }
      ],
      "source": [
        "df1=pd.read_csv('fake_job_postings.csv')\n",
        "df1.head()"
      ]
    },
    {
      "cell_type": "code",
      "execution_count": 3,
      "metadata": {
        "execution": {
          "iopub.execute_input": "2022-04-21T07:47:42.296908Z",
          "iopub.status.busy": "2022-04-21T07:47:42.296175Z",
          "iopub.status.idle": "2022-04-21T07:47:42.304847Z",
          "shell.execute_reply": "2022-04-21T07:47:42.303735Z",
          "shell.execute_reply.started": "2022-04-21T07:47:42.296853Z"
        },
        "colab": {
          "base_uri": "https://localhost:8080/"
        },
        "id": "3hSsTfeU_9yk",
        "outputId": "07b12d80-24c9-420b-cfd1-75cb1f7c0465"
      },
      "outputs": [
        {
          "output_type": "execute_result",
          "data": {
            "text/plain": [
              "(17880, 18)"
            ]
          },
          "metadata": {},
          "execution_count": 3
        }
      ],
      "source": [
        "df1.shape"
      ]
    },
    {
      "cell_type": "code",
      "execution_count": 4,
      "metadata": {
        "execution": {
          "iopub.execute_input": "2022-04-21T07:47:43.135540Z",
          "iopub.status.busy": "2022-04-21T07:47:43.134816Z",
          "iopub.status.idle": "2022-04-21T07:47:43.159873Z",
          "shell.execute_reply": "2022-04-21T07:47:43.158547Z",
          "shell.execute_reply.started": "2022-04-21T07:47:43.135484Z"
        },
        "colab": {
          "base_uri": "https://localhost:8080/",
          "height": 206
        },
        "id": "5hEIxMmC_9yl",
        "outputId": "43069fb5-3416-4924-e202-c51a25ec96cb"
      },
      "outputs": [
        {
          "output_type": "execute_result",
          "data": {
            "text/plain": [
              "                                         description  \\\n",
              "0  Food52, a fast-growing, James Beard Award-winn...   \n",
              "1  Organised - Focused - Vibrant - Awesome!Do you...   \n",
              "2  Our client, located in Houston, is actively se...   \n",
              "3  THE COMPANY: ESRI – Environmental Systems Rese...   \n",
              "4  JOB TITLE: Itemization Review ManagerLOCATION:...   \n",
              "\n",
              "                                        requirements  fraudulent  \n",
              "0  Experience with content management systems a m...           0  \n",
              "1  What we expect from you:Your key responsibilit...           0  \n",
              "2  Implement pre-commissioning and commissioning ...           0  \n",
              "3  EDUCATION: Bachelor’s or Master’s in GIS, busi...           0  \n",
              "4  QUALIFICATIONS:RN license in the State of Texa...           0  "
            ],
            "text/html": [
              "\n",
              "  <div id=\"df-350e60ac-5657-4538-a5fd-83f50bd9f5d8\">\n",
              "    <div class=\"colab-df-container\">\n",
              "      <div>\n",
              "<style scoped>\n",
              "    .dataframe tbody tr th:only-of-type {\n",
              "        vertical-align: middle;\n",
              "    }\n",
              "\n",
              "    .dataframe tbody tr th {\n",
              "        vertical-align: top;\n",
              "    }\n",
              "\n",
              "    .dataframe thead th {\n",
              "        text-align: right;\n",
              "    }\n",
              "</style>\n",
              "<table border=\"1\" class=\"dataframe\">\n",
              "  <thead>\n",
              "    <tr style=\"text-align: right;\">\n",
              "      <th></th>\n",
              "      <th>description</th>\n",
              "      <th>requirements</th>\n",
              "      <th>fraudulent</th>\n",
              "    </tr>\n",
              "  </thead>\n",
              "  <tbody>\n",
              "    <tr>\n",
              "      <th>0</th>\n",
              "      <td>Food52, a fast-growing, James Beard Award-winn...</td>\n",
              "      <td>Experience with content management systems a m...</td>\n",
              "      <td>0</td>\n",
              "    </tr>\n",
              "    <tr>\n",
              "      <th>1</th>\n",
              "      <td>Organised - Focused - Vibrant - Awesome!Do you...</td>\n",
              "      <td>What we expect from you:Your key responsibilit...</td>\n",
              "      <td>0</td>\n",
              "    </tr>\n",
              "    <tr>\n",
              "      <th>2</th>\n",
              "      <td>Our client, located in Houston, is actively se...</td>\n",
              "      <td>Implement pre-commissioning and commissioning ...</td>\n",
              "      <td>0</td>\n",
              "    </tr>\n",
              "    <tr>\n",
              "      <th>3</th>\n",
              "      <td>THE COMPANY: ESRI – Environmental Systems Rese...</td>\n",
              "      <td>EDUCATION: Bachelor’s or Master’s in GIS, busi...</td>\n",
              "      <td>0</td>\n",
              "    </tr>\n",
              "    <tr>\n",
              "      <th>4</th>\n",
              "      <td>JOB TITLE: Itemization Review ManagerLOCATION:...</td>\n",
              "      <td>QUALIFICATIONS:RN license in the State of Texa...</td>\n",
              "      <td>0</td>\n",
              "    </tr>\n",
              "  </tbody>\n",
              "</table>\n",
              "</div>\n",
              "      <button class=\"colab-df-convert\" onclick=\"convertToInteractive('df-350e60ac-5657-4538-a5fd-83f50bd9f5d8')\"\n",
              "              title=\"Convert this dataframe to an interactive table.\"\n",
              "              style=\"display:none;\">\n",
              "        \n",
              "  <svg xmlns=\"http://www.w3.org/2000/svg\" height=\"24px\"viewBox=\"0 0 24 24\"\n",
              "       width=\"24px\">\n",
              "    <path d=\"M0 0h24v24H0V0z\" fill=\"none\"/>\n",
              "    <path d=\"M18.56 5.44l.94 2.06.94-2.06 2.06-.94-2.06-.94-.94-2.06-.94 2.06-2.06.94zm-11 1L8.5 8.5l.94-2.06 2.06-.94-2.06-.94L8.5 2.5l-.94 2.06-2.06.94zm10 10l.94 2.06.94-2.06 2.06-.94-2.06-.94-.94-2.06-.94 2.06-2.06.94z\"/><path d=\"M17.41 7.96l-1.37-1.37c-.4-.4-.92-.59-1.43-.59-.52 0-1.04.2-1.43.59L10.3 9.45l-7.72 7.72c-.78.78-.78 2.05 0 2.83L4 21.41c.39.39.9.59 1.41.59.51 0 1.02-.2 1.41-.59l7.78-7.78 2.81-2.81c.8-.78.8-2.07 0-2.86zM5.41 20L4 18.59l7.72-7.72 1.47 1.35L5.41 20z\"/>\n",
              "  </svg>\n",
              "      </button>\n",
              "      \n",
              "  <style>\n",
              "    .colab-df-container {\n",
              "      display:flex;\n",
              "      flex-wrap:wrap;\n",
              "      gap: 12px;\n",
              "    }\n",
              "\n",
              "    .colab-df-convert {\n",
              "      background-color: #E8F0FE;\n",
              "      border: none;\n",
              "      border-radius: 50%;\n",
              "      cursor: pointer;\n",
              "      display: none;\n",
              "      fill: #1967D2;\n",
              "      height: 32px;\n",
              "      padding: 0 0 0 0;\n",
              "      width: 32px;\n",
              "    }\n",
              "\n",
              "    .colab-df-convert:hover {\n",
              "      background-color: #E2EBFA;\n",
              "      box-shadow: 0px 1px 2px rgba(60, 64, 67, 0.3), 0px 1px 3px 1px rgba(60, 64, 67, 0.15);\n",
              "      fill: #174EA6;\n",
              "    }\n",
              "\n",
              "    [theme=dark] .colab-df-convert {\n",
              "      background-color: #3B4455;\n",
              "      fill: #D2E3FC;\n",
              "    }\n",
              "\n",
              "    [theme=dark] .colab-df-convert:hover {\n",
              "      background-color: #434B5C;\n",
              "      box-shadow: 0px 1px 3px 1px rgba(0, 0, 0, 0.15);\n",
              "      filter: drop-shadow(0px 1px 2px rgba(0, 0, 0, 0.3));\n",
              "      fill: #FFFFFF;\n",
              "    }\n",
              "  </style>\n",
              "\n",
              "      <script>\n",
              "        const buttonEl =\n",
              "          document.querySelector('#df-350e60ac-5657-4538-a5fd-83f50bd9f5d8 button.colab-df-convert');\n",
              "        buttonEl.style.display =\n",
              "          google.colab.kernel.accessAllowed ? 'block' : 'none';\n",
              "\n",
              "        async function convertToInteractive(key) {\n",
              "          const element = document.querySelector('#df-350e60ac-5657-4538-a5fd-83f50bd9f5d8');\n",
              "          const dataTable =\n",
              "            await google.colab.kernel.invokeFunction('convertToInteractive',\n",
              "                                                     [key], {});\n",
              "          if (!dataTable) return;\n",
              "\n",
              "          const docLinkHtml = 'Like what you see? Visit the ' +\n",
              "            '<a target=\"_blank\" href=https://colab.research.google.com/notebooks/data_table.ipynb>data table notebook</a>'\n",
              "            + ' to learn more about interactive tables.';\n",
              "          element.innerHTML = '';\n",
              "          dataTable['output_type'] = 'display_data';\n",
              "          await google.colab.output.renderOutput(dataTable, element);\n",
              "          const docLink = document.createElement('div');\n",
              "          docLink.innerHTML = docLinkHtml;\n",
              "          element.appendChild(docLink);\n",
              "        }\n",
              "      </script>\n",
              "    </div>\n",
              "  </div>\n",
              "  "
            ]
          },
          "metadata": {},
          "execution_count": 4
        }
      ],
      "source": [
        "df=df1[['description','requirements','fraudulent']]\n",
        "df.head()"
      ]
    },
    {
      "cell_type": "code",
      "execution_count": 5,
      "metadata": {
        "execution": {
          "iopub.execute_input": "2022-04-21T07:47:43.866772Z",
          "iopub.status.busy": "2022-04-21T07:47:43.866360Z",
          "iopub.status.idle": "2022-04-21T07:47:43.882538Z",
          "shell.execute_reply": "2022-04-21T07:47:43.881397Z",
          "shell.execute_reply.started": "2022-04-21T07:47:43.866736Z"
        },
        "id": "oYl2JXpM_9ym"
      },
      "outputs": [],
      "source": [
        "###Drop Nan Values\n",
        "df=df.dropna()"
      ]
    },
    {
      "cell_type": "code",
      "execution_count": 6,
      "metadata": {
        "execution": {
          "iopub.execute_input": "2022-04-21T07:47:44.494988Z",
          "iopub.status.busy": "2022-04-21T07:47:44.494606Z",
          "iopub.status.idle": "2022-04-21T07:47:44.501905Z",
          "shell.execute_reply": "2022-04-21T07:47:44.500763Z",
          "shell.execute_reply.started": "2022-04-21T07:47:44.494954Z"
        },
        "colab": {
          "base_uri": "https://localhost:8080/"
        },
        "id": "6CuR9B4Z_9ym",
        "outputId": "a2974b05-f977-467c-a046-b30bb320389c"
      },
      "outputs": [
        {
          "output_type": "execute_result",
          "data": {
            "text/plain": [
              "(15185, 3)"
            ]
          },
          "metadata": {},
          "execution_count": 6
        }
      ],
      "source": [
        "df.shape"
      ]
    },
    {
      "cell_type": "code",
      "execution_count": 7,
      "metadata": {
        "execution": {
          "iopub.execute_input": "2022-04-21T07:47:45.274299Z",
          "iopub.status.busy": "2022-04-21T07:47:45.273727Z",
          "iopub.status.idle": "2022-04-21T07:47:45.281425Z",
          "shell.execute_reply": "2022-04-21T07:47:45.280594Z",
          "shell.execute_reply.started": "2022-04-21T07:47:45.274232Z"
        },
        "id": "HFW8WqQh_9yn"
      },
      "outputs": [],
      "source": [
        "## Get the Independent Features\n",
        "\n",
        "X=df.drop('fraudulent',axis=1)"
      ]
    },
    {
      "cell_type": "code",
      "execution_count": 8,
      "metadata": {
        "execution": {
          "iopub.execute_input": "2022-04-21T07:47:46.179430Z",
          "iopub.status.busy": "2022-04-21T07:47:46.178971Z",
          "iopub.status.idle": "2022-04-21T07:47:46.186973Z",
          "shell.execute_reply": "2022-04-21T07:47:46.185732Z",
          "shell.execute_reply.started": "2022-04-21T07:47:46.179390Z"
        },
        "id": "hkAz8Lu8_9yn"
      },
      "outputs": [],
      "source": [
        "## Get the Dependent features\n",
        "y=df['fraudulent']"
      ]
    },
    {
      "cell_type": "code",
      "execution_count": 9,
      "metadata": {
        "execution": {
          "iopub.execute_input": "2022-04-21T07:47:47.064489Z",
          "iopub.status.busy": "2022-04-21T07:47:47.063632Z",
          "iopub.status.idle": "2022-04-21T07:47:47.076334Z",
          "shell.execute_reply": "2022-04-21T07:47:47.074371Z",
          "shell.execute_reply.started": "2022-04-21T07:47:47.064428Z"
        },
        "colab": {
          "base_uri": "https://localhost:8080/"
        },
        "id": "xRuK6Ici_9yo",
        "outputId": "4b64c8b5-fef3-42fb-8f61-0f39d82b6513"
      },
      "outputs": [
        {
          "output_type": "execute_result",
          "data": {
            "text/plain": [
              "0    14473\n",
              "1      712\n",
              "Name: fraudulent, dtype: int64"
            ]
          },
          "metadata": {},
          "execution_count": 9
        }
      ],
      "source": [
        "y.value_counts()"
      ]
    },
    {
      "cell_type": "code",
      "execution_count": 10,
      "metadata": {
        "execution": {
          "iopub.execute_input": "2022-04-21T07:47:47.764199Z",
          "iopub.status.busy": "2022-04-21T07:47:47.763367Z",
          "iopub.status.idle": "2022-04-21T07:47:53.963641Z",
          "shell.execute_reply": "2022-04-21T07:47:53.962416Z",
          "shell.execute_reply.started": "2022-04-21T07:47:47.764136Z"
        },
        "colab": {
          "base_uri": "https://localhost:8080/",
          "height": 36
        },
        "id": "qwB6p8gi_9yo",
        "outputId": "8c5b2fcc-9984-4be4-e367-63658d1fa567"
      },
      "outputs": [
        {
          "output_type": "execute_result",
          "data": {
            "text/plain": [
              "'2.9.2'"
            ],
            "application/vnd.google.colaboratory.intrinsic+json": {
              "type": "string"
            }
          },
          "metadata": {},
          "execution_count": 10
        }
      ],
      "source": [
        "import tensorflow as tf\n",
        "tf.__version__"
      ]
    },
    {
      "cell_type": "code",
      "execution_count": 11,
      "metadata": {
        "execution": {
          "iopub.execute_input": "2022-04-21T07:47:53.966009Z",
          "iopub.status.busy": "2022-04-21T07:47:53.965676Z",
          "iopub.status.idle": "2022-04-21T07:47:53.974284Z",
          "shell.execute_reply": "2022-04-21T07:47:53.972682Z",
          "shell.execute_reply.started": "2022-04-21T07:47:53.965974Z"
        },
        "id": "MaR6sDet_9yp"
      },
      "outputs": [],
      "source": [
        "from tensorflow.keras.layers import Embedding\n",
        "from tensorflow.keras.preprocessing.sequence import pad_sequences\n",
        "from tensorflow.keras.models import Sequential\n",
        "from tensorflow.keras.preprocessing.text import one_hot\n",
        "from tensorflow.keras.layers import LSTM\n",
        "from tensorflow.keras.layers import Dense\n",
        "from tensorflow.keras.layers import Bidirectional\n",
        "from tensorflow.keras.layers import Dropout"
      ]
    },
    {
      "cell_type": "code",
      "execution_count": 12,
      "metadata": {
        "execution": {
          "iopub.execute_input": "2022-04-21T07:47:53.977668Z",
          "iopub.status.busy": "2022-04-21T07:47:53.976874Z",
          "iopub.status.idle": "2022-04-21T07:47:53.987650Z",
          "shell.execute_reply": "2022-04-21T07:47:53.986072Z",
          "shell.execute_reply.started": "2022-04-21T07:47:53.977604Z"
        },
        "id": "f77tT18o_9yq"
      },
      "outputs": [],
      "source": [
        "voc_size=5000"
      ]
    },
    {
      "cell_type": "markdown",
      "metadata": {
        "id": "8sbHcx3d_9yq"
      },
      "source": [
        "## Onehot Representation:"
      ]
    },
    {
      "cell_type": "code",
      "execution_count": 13,
      "metadata": {
        "execution": {
          "iopub.execute_input": "2022-04-21T07:47:55.653174Z",
          "iopub.status.busy": "2022-04-21T07:47:55.652765Z",
          "iopub.status.idle": "2022-04-21T07:47:55.660743Z",
          "shell.execute_reply": "2022-04-21T07:47:55.659563Z",
          "shell.execute_reply.started": "2022-04-21T07:47:55.653139Z"
        },
        "id": "c-sNUYQU_9ys"
      },
      "outputs": [],
      "source": [
        "message = X.copy()"
      ]
    },
    {
      "cell_type": "code",
      "execution_count": 14,
      "metadata": {
        "execution": {
          "iopub.execute_input": "2022-04-21T07:48:01.603838Z",
          "iopub.status.busy": "2022-04-21T07:48:01.603466Z",
          "iopub.status.idle": "2022-04-21T07:48:01.613743Z",
          "shell.execute_reply": "2022-04-21T07:48:01.612642Z",
          "shell.execute_reply.started": "2022-04-21T07:48:01.603803Z"
        },
        "colab": {
          "base_uri": "https://localhost:8080/",
          "height": 145
        },
        "id": "2Qq5WR2m_9yt",
        "outputId": "46e33af8-ef0b-4994-8077-930260d427d9"
      },
      "outputs": [
        {
          "output_type": "execute_result",
          "data": {
            "text/plain": [
              "\"Organised - Focused - Vibrant - Awesome!Do you have a passion for customer service? Slick typing skills? Maybe Account Management? ...And think administration is cooler than a polar bear on a jetski? Then we need to hear you!\\xa0We are the Cloud Video Production Service and opperating on a glodal level. Yeah, it's pretty cool. Serious about\\xa0delivering a world class product and excellent customer service.Our rapidly expanding business is looking for a talented Project Manager to manage the successful delivery of video projects, manage client communications and drive the production process. Work with some of the coolest brands on the planet and learn from a global team that are representing NZ is a huge way!We are entering the next growth stage of our business and growing quickly internationally. \\xa0Therefore, the position is bursting with opportunity for the right person entering the business at the right time.\\xa090 Seconds, the worlds Cloud Video Production Service -\\xa0http://90#URL_fbe6559afac620a3cd2c22281f7b8d0eef56a73e3d9a311e2f1ca13d081dd630#90 Seconds is the worlds Cloud Video Production Service enabling brands and agencies to get high quality online video content shot and produced anywhere in the world. Fast, affordable, and all managed seamlessly in the cloud from purchase to publish.\\xa090 Seconds removes the hassle, cost, risk and speed issues of working with regular video production companies by managing every aspect of video projects in a beautiful online experience. \\xa0With a growing network of over 2,000 rated video professionals in over 50 countries and dedicated production success teams in 5 countries guaranteeing video project success 100%. It's as easy as commissioning a quick google adwords campaign.90 Seconds has produced almost 4,000 videos in over 30 Countries for over 500 Global brands including some of the worlds largest including Paypal, L'oreal, Sony and Barclays and has offices in Auckland, London, Sydney, Tokyo &amp; Singapore.Our Auckland office is based\\xa0right in the heart of the Wynyard Quarter Innovation Precinct - GridAKL!\\xa0\""
            ],
            "application/vnd.google.colaboratory.intrinsic+json": {
              "type": "string"
            }
          },
          "metadata": {},
          "execution_count": 14
        }
      ],
      "source": [
        "message['description'][1]"
      ]
    },
    {
      "cell_type": "code",
      "execution_count": 15,
      "metadata": {
        "execution": {
          "iopub.execute_input": "2022-04-21T07:48:02.464741Z",
          "iopub.status.busy": "2022-04-21T07:48:02.464105Z",
          "iopub.status.idle": "2022-04-21T07:48:02.471718Z",
          "shell.execute_reply": "2022-04-21T07:48:02.470822Z",
          "shell.execute_reply.started": "2022-04-21T07:48:02.464692Z"
        },
        "id": "mfHKwwFb_9yu"
      },
      "outputs": [],
      "source": [
        "message.reset_index(inplace=True)"
      ]
    },
    {
      "cell_type": "code",
      "execution_count": 16,
      "metadata": {
        "execution": {
          "iopub.execute_input": "2022-04-21T07:48:04.450363Z",
          "iopub.status.busy": "2022-04-21T07:48:04.449772Z",
          "iopub.status.idle": "2022-04-21T07:48:05.031662Z",
          "shell.execute_reply": "2022-04-21T07:48:05.030231Z",
          "shell.execute_reply.started": "2022-04-21T07:48:04.450311Z"
        },
        "id": "R2jGau9K_9yu"
      },
      "outputs": [],
      "source": [
        "import nltk\n",
        "import re\n",
        "from nltk.corpus import stopwords"
      ]
    },
    {
      "cell_type": "code",
      "execution_count": 19,
      "metadata": {
        "colab": {
          "base_uri": "https://localhost:8080/"
        },
        "id": "e1QfIUU3_9yv",
        "outputId": "689860e1-cc00-4e65-cb0c-364415b39a10"
      },
      "outputs": [
        {
          "output_type": "stream",
          "name": "stderr",
          "text": [
            "[nltk_data] Downloading package stopwords to /root/nltk_data...\n",
            "[nltk_data]   Unzipping corpora/stopwords.zip.\n"
          ]
        },
        {
          "output_type": "execute_result",
          "data": {
            "text/plain": [
              "True"
            ]
          },
          "metadata": {},
          "execution_count": 19
        }
      ],
      "source": [
        "# import nltk\n",
        "# nltk.download()\n",
        "\n",
        "import nltk\n",
        "nltk.download('stopwords')"
      ]
    },
    {
      "cell_type": "code",
      "execution_count": 20,
      "metadata": {
        "execution": {
          "iopub.execute_input": "2022-04-21T07:48:08.677518Z",
          "iopub.status.busy": "2022-04-21T07:48:08.676810Z",
          "iopub.status.idle": "2022-04-21T07:54:47.988708Z",
          "shell.execute_reply": "2022-04-21T07:54:47.986454Z",
          "shell.execute_reply.started": "2022-04-21T07:48:08.677466Z"
        },
        "id": "BscxKcNu_9yw"
      },
      "outputs": [],
      "source": [
        "from nltk.stem.porter import PorterStemmer\n",
        "ps = PorterStemmer()\n",
        "corpus = []\n",
        "for i in range(0, len(message)):\n",
        "    review = re.sub('[^a-zA-Z]', ' ', message['description'][i])\n",
        "    review = review.lower()\n",
        "    review = review.split()\n",
        "    \n",
        "    review = [ps.stem(word) for word in review if not word in stopwords.words('english')]\n",
        "    review = ' '.join(review)\n",
        "    corpus.append(review)"
      ]
    },
    {
      "cell_type": "code",
      "execution_count": 21,
      "metadata": {
        "execution": {
          "iopub.execute_input": "2022-04-21T07:54:47.994127Z",
          "iopub.status.busy": "2022-04-21T07:54:47.993363Z",
          "iopub.status.idle": "2022-04-21T07:54:48.005017Z",
          "shell.execute_reply": "2022-04-21T07:54:48.004132Z",
          "shell.execute_reply.started": "2022-04-21T07:54:47.994045Z"
        },
        "colab": {
          "base_uri": "https://localhost:8080/",
          "height": 145
        },
        "id": "XLmeZL0u_9yw",
        "outputId": "e5392adc-168b-4514-9447-36dcec75f6e8"
      },
      "outputs": [
        {
          "output_type": "execute_result",
          "data": {
            "text/plain": [
              "'organis focus vibrant awesom passion custom servic slick type skill mayb account manag think administr cooler polar bear jetski need hear cloud video product servic opper glodal level yeah pretti cool seriou deliv world class product excel custom servic rapidli expand busi look talent project manag manag success deliveri video project manag client commun drive product process work coolest brand planet learn global team repres nz huge way enter next growth stage busi grow quickli intern therefor posit burst opportun right person enter busi right time second world cloud video product servic http url fbe afac cd c f b eef e e f ca dd second world cloud video product servic enabl brand agenc get high qualiti onlin video content shot produc anywher world fast afford manag seamlessli cloud purchas publish second remov hassl cost risk speed issu work regular video product compani manag everi aspect video project beauti onlin experi grow network rate video profession countri dedic product success team countri guarante video project success easi commiss quick googl adword campaign second produc almost video countri global brand includ world largest includ paypal l oreal soni barclay offic auckland london sydney tokyo amp singapor auckland offic base right heart wynyard quarter innov precinct gridakl'"
            ],
            "application/vnd.google.colaboratory.intrinsic+json": {
              "type": "string"
            }
          },
          "metadata": {},
          "execution_count": 21
        }
      ],
      "source": [
        "corpus[1]"
      ]
    },
    {
      "cell_type": "code",
      "execution_count": 22,
      "metadata": {
        "execution": {
          "iopub.execute_input": "2022-04-21T07:54:48.007967Z",
          "iopub.status.busy": "2022-04-21T07:54:48.007007Z",
          "iopub.status.idle": "2022-04-21T07:54:49.070773Z",
          "shell.execute_reply": "2022-04-21T07:54:49.069554Z",
          "shell.execute_reply.started": "2022-04-21T07:54:48.007905Z"
        },
        "colab": {
          "base_uri": "https://localhost:8080/"
        },
        "id": "-yTQERtr_9yx",
        "outputId": "e71faafe-c354-4f4c-da82-a198cff356f4"
      },
      "outputs": [
        {
          "output_type": "execute_result",
          "data": {
            "text/plain": [
              "[73,\n",
              " 1401,\n",
              " 4614,\n",
              " 1647,\n",
              " 43,\n",
              " 1094,\n",
              " 399,\n",
              " 279,\n",
              " 1808,\n",
              " 4047,\n",
              " 3053,\n",
              " 2702,\n",
              " 3440,\n",
              " 3047,\n",
              " 1901,\n",
              " 1765,\n",
              " 881,\n",
              " 354,\n",
              " 3635,\n",
              " 4504,\n",
              " 1321,\n",
              " 3576,\n",
              " 2659,\n",
              " 2062,\n",
              " 399,\n",
              " 2548,\n",
              " 806,\n",
              " 1803,\n",
              " 159,\n",
              " 825,\n",
              " 2970,\n",
              " 514,\n",
              " 2189,\n",
              " 1272,\n",
              " 2103,\n",
              " 2062,\n",
              " 1717,\n",
              " 1094,\n",
              " 399,\n",
              " 1774,\n",
              " 1295,\n",
              " 2466,\n",
              " 1625,\n",
              " 1307,\n",
              " 991,\n",
              " 3440,\n",
              " 3440,\n",
              " 4556,\n",
              " 3059,\n",
              " 2659,\n",
              " 991,\n",
              " 3440,\n",
              " 46,\n",
              " 3184,\n",
              " 203,\n",
              " 2062,\n",
              " 4926,\n",
              " 1649,\n",
              " 2756,\n",
              " 1329,\n",
              " 735,\n",
              " 1441,\n",
              " 4748,\n",
              " 3840,\n",
              " 3235,\n",
              " 119,\n",
              " 2078,\n",
              " 4847,\n",
              " 3658,\n",
              " 3284,\n",
              " 3893,\n",
              " 2045,\n",
              " 2466,\n",
              " 3480,\n",
              " 1961,\n",
              " 4908,\n",
              " 434,\n",
              " 4896,\n",
              " 844,\n",
              " 4717,\n",
              " 2277,\n",
              " 1081,\n",
              " 3658,\n",
              " 2466,\n",
              " 2277,\n",
              " 2017,\n",
              " 1906,\n",
              " 1272,\n",
              " 3576,\n",
              " 2659,\n",
              " 2062,\n",
              " 399,\n",
              " 2435,\n",
              " 3061,\n",
              " 2543,\n",
              " 1984,\n",
              " 2213,\n",
              " 3070,\n",
              " 4675,\n",
              " 4077,\n",
              " 4555,\n",
              " 2405,\n",
              " 2405,\n",
              " 4675,\n",
              " 2824,\n",
              " 3979,\n",
              " 1906,\n",
              " 1272,\n",
              " 3576,\n",
              " 2659,\n",
              " 2062,\n",
              " 399,\n",
              " 2756,\n",
              " 1329,\n",
              " 2739,\n",
              " 2845,\n",
              " 1503,\n",
              " 4033,\n",
              " 19,\n",
              " 2659,\n",
              " 1660,\n",
              " 4902,\n",
              " 4144,\n",
              " 3865,\n",
              " 1272,\n",
              " 4107,\n",
              " 4170,\n",
              " 3440,\n",
              " 2797,\n",
              " 3576,\n",
              " 932,\n",
              " 438,\n",
              " 1906,\n",
              " 1549,\n",
              " 1555,\n",
              " 1706,\n",
              " 2246,\n",
              " 2197,\n",
              " 1330,\n",
              " 1649,\n",
              " 2856,\n",
              " 2659,\n",
              " 2062,\n",
              " 4693,\n",
              " 3440,\n",
              " 3075,\n",
              " 3191,\n",
              " 2659,\n",
              " 991,\n",
              " 1732,\n",
              " 19,\n",
              " 866,\n",
              " 3480,\n",
              " 834,\n",
              " 1985,\n",
              " 2659,\n",
              " 686,\n",
              " 4485,\n",
              " 1792,\n",
              " 2062,\n",
              " 4556,\n",
              " 3840,\n",
              " 4485,\n",
              " 2882,\n",
              " 2659,\n",
              " 991,\n",
              " 4556,\n",
              " 3225,\n",
              " 689,\n",
              " 4586,\n",
              " 3413,\n",
              " 3147,\n",
              " 1099,\n",
              " 1906,\n",
              " 4144,\n",
              " 27,\n",
              " 2659,\n",
              " 4485,\n",
              " 4748,\n",
              " 1329,\n",
              " 2226,\n",
              " 1272,\n",
              " 6,\n",
              " 2226,\n",
              " 2065,\n",
              " 2479,\n",
              " 4004,\n",
              " 4815,\n",
              " 4156,\n",
              " 689,\n",
              " 2341,\n",
              " 3389,\n",
              " 739,\n",
              " 1702,\n",
              " 4627,\n",
              " 1993,\n",
              " 2341,\n",
              " 689,\n",
              " 151,\n",
              " 2277,\n",
              " 3827,\n",
              " 1147,\n",
              " 3539,\n",
              " 1043,\n",
              " 4333,\n",
              " 3421]"
            ]
          },
          "metadata": {},
          "execution_count": 22
        }
      ],
      "source": [
        "onehot_repr=[one_hot(words,voc_size)for words in corpus] \n",
        "onehot_repr[1]"
      ]
    },
    {
      "cell_type": "markdown",
      "metadata": {
        "id": "iAqYKEJA_9yx"
      },
      "source": [
        "## Embedding Representation:"
      ]
    },
    {
      "cell_type": "code",
      "execution_count": 23,
      "metadata": {
        "execution": {
          "iopub.execute_input": "2022-04-21T08:00:34.170049Z",
          "iopub.status.busy": "2022-04-21T08:00:34.168880Z",
          "iopub.status.idle": "2022-04-21T08:00:34.317508Z",
          "shell.execute_reply": "2022-04-21T08:00:34.316088Z",
          "shell.execute_reply.started": "2022-04-21T08:00:34.169959Z"
        },
        "colab": {
          "base_uri": "https://localhost:8080/"
        },
        "id": "xS-wF6Cv_9yy",
        "outputId": "10710388-f61c-4942-e66a-7bbd7b706787"
      },
      "outputs": [
        {
          "output_type": "stream",
          "name": "stdout",
          "text": [
            "[[3385 1660 3440 ...  226  904 4140]\n",
            " [4556 3225  689 ... 1043 4333 3421]\n",
            " [   0    0    0 ... 2530 4431 3026]\n",
            " ...\n",
            " [2545 4730 4754 ... 4838  167 4629]\n",
            " [2247 4639 3447 ...  793 4908  991]\n",
            " [3032  331 1985 ... 1779 4943 3206]]\n"
          ]
        }
      ],
      "source": [
        "sent_length=40\n",
        "embedded_docs=pad_sequences(onehot_repr,padding='pre',maxlen=sent_length)\n",
        "print(embedded_docs)"
      ]
    },
    {
      "cell_type": "code",
      "execution_count": 24,
      "metadata": {
        "execution": {
          "iopub.execute_input": "2022-04-21T08:00:35.254983Z",
          "iopub.status.busy": "2022-04-21T08:00:35.254527Z",
          "iopub.status.idle": "2022-04-21T08:00:35.262632Z",
          "shell.execute_reply": "2022-04-21T08:00:35.261440Z",
          "shell.execute_reply.started": "2022-04-21T08:00:35.254940Z"
        },
        "colab": {
          "base_uri": "https://localhost:8080/"
        },
        "id": "dO9mdpdl_9yy",
        "outputId": "3b660629-4c92-4607-b1fb-5cc8fe97b3bb"
      },
      "outputs": [
        {
          "output_type": "execute_result",
          "data": {
            "text/plain": [
              "array([3385, 1660, 3440,  531, 1434, 1558, 2933, 2326,  881, 2676, 4081,\n",
              "       4081,  881, 2594, 2244, 3404,  881, 1825,  881, 2142, 4919, 4627,\n",
              "        150, 1702,  689, 1901, 1649, 1627, 2617,  307, 4981, 3395, 4966,\n",
              "        868, 2242, 2065, 3840,  226,  904, 4140], dtype=int32)"
            ]
          },
          "metadata": {},
          "execution_count": 24
        }
      ],
      "source": [
        "embedded_docs[0]"
      ]
    },
    {
      "cell_type": "code",
      "execution_count": 25,
      "metadata": {
        "execution": {
          "iopub.execute_input": "2022-04-21T08:00:36.939078Z",
          "iopub.status.busy": "2022-04-21T08:00:36.938296Z",
          "iopub.status.idle": "2022-04-21T08:00:37.864170Z",
          "shell.execute_reply": "2022-04-21T08:00:37.862998Z",
          "shell.execute_reply.started": "2022-04-21T08:00:36.939019Z"
        },
        "colab": {
          "base_uri": "https://localhost:8080/"
        },
        "id": "eANzSe0J_9yz",
        "outputId": "595d1a9b-638e-4979-f24d-3cb30edac598"
      },
      "outputs": [
        {
          "output_type": "stream",
          "name": "stdout",
          "text": [
            "Model: \"sequential\"\n",
            "_________________________________________________________________\n",
            " Layer (type)                Output Shape              Param #   \n",
            "=================================================================\n",
            " embedding (Embedding)       (None, 40, 50)            250000    \n",
            "                                                                 \n",
            " lstm (LSTM)                 (None, 40, 256)           314368    \n",
            "                                                                 \n",
            " dropout (Dropout)           (None, 40, 256)           0         \n",
            "                                                                 \n",
            " lstm_1 (LSTM)               (None, 40, 128)           197120    \n",
            "                                                                 \n",
            " dropout_1 (Dropout)         (None, 40, 128)           0         \n",
            "                                                                 \n",
            " lstm_2 (LSTM)               (None, 64)                49408     \n",
            "                                                                 \n",
            " dense (Dense)               (None, 64)                4160      \n",
            "                                                                 \n",
            " dense_1 (Dense)             (None, 1)                 65        \n",
            "                                                                 \n",
            "=================================================================\n",
            "Total params: 815,121\n",
            "Trainable params: 815,121\n",
            "Non-trainable params: 0\n",
            "_________________________________________________________________\n",
            "None\n"
          ]
        }
      ],
      "source": [
        "embedding_vector_features=50\n",
        "model1=Sequential()\n",
        "model1.add(Embedding(voc_size,embedding_vector_features,input_length=sent_length))\n",
        "model1.add(tf.keras.layers.LSTM(units = 256, return_sequences = True)),\n",
        "model1.add(tf.keras.layers.Dropout(0.5)),\n",
        "model1.add(tf.keras.layers.LSTM(units = 128, return_sequences = True)),\n",
        "model1.add(tf.keras.layers.Dropout(0.5)),\n",
        "model1.add(tf.keras.layers.LSTM(units = 64)),\n",
        "model1.add(tf.keras.layers.Dense(64, activation = \"relu\")),\n",
        "model1.add(Dense(1,activation='sigmoid'))\n",
        "model1.compile(loss='binary_crossentropy',optimizer='adam',metrics=['accuracy'])\n",
        "print(model1.summary())"
      ]
    },
    {
      "cell_type": "code",
      "execution_count": 26,
      "metadata": {
        "execution": {
          "iopub.execute_input": "2022-04-21T08:00:38.919802Z",
          "iopub.status.busy": "2022-04-21T08:00:38.919431Z",
          "iopub.status.idle": "2022-04-21T08:00:38.928964Z",
          "shell.execute_reply": "2022-04-21T08:00:38.927406Z",
          "shell.execute_reply.started": "2022-04-21T08:00:38.919770Z"
        },
        "colab": {
          "base_uri": "https://localhost:8080/"
        },
        "id": "eI1ot8ha_9yz",
        "outputId": "787c9b17-6133-4f50-8bcd-7928b66cd038"
      },
      "outputs": [
        {
          "output_type": "execute_result",
          "data": {
            "text/plain": [
              "(15185, (15185,))"
            ]
          },
          "metadata": {},
          "execution_count": 26
        }
      ],
      "source": [
        "len(embedded_docs),y.shape"
      ]
    },
    {
      "cell_type": "code",
      "execution_count": 27,
      "metadata": {
        "execution": {
          "iopub.execute_input": "2022-04-21T08:00:39.857575Z",
          "iopub.status.busy": "2022-04-21T08:00:39.856611Z",
          "iopub.status.idle": "2022-04-21T08:00:39.871965Z",
          "shell.execute_reply": "2022-04-21T08:00:39.870700Z",
          "shell.execute_reply.started": "2022-04-21T08:00:39.857516Z"
        },
        "id": "cqGN6gOn_9y0"
      },
      "outputs": [],
      "source": [
        "import numpy as np\n",
        "X_final=np.array(embedded_docs)\n",
        "y_final=np.array(y)"
      ]
    },
    {
      "cell_type": "code",
      "execution_count": 28,
      "metadata": {
        "execution": {
          "iopub.execute_input": "2022-04-21T08:00:40.707030Z",
          "iopub.status.busy": "2022-04-21T08:00:40.706568Z",
          "iopub.status.idle": "2022-04-21T08:00:40.718647Z",
          "shell.execute_reply": "2022-04-21T08:00:40.716456Z",
          "shell.execute_reply.started": "2022-04-21T08:00:40.706990Z"
        },
        "colab": {
          "base_uri": "https://localhost:8080/"
        },
        "id": "_vSoTJIE_9y0",
        "outputId": "4a12925f-d9cc-45ef-a407-2d658f36a172"
      },
      "outputs": [
        {
          "output_type": "execute_result",
          "data": {
            "text/plain": [
              "array([4556, 3225,  689, 4586, 3413, 3147, 1099, 1906, 4144,   27, 2659,\n",
              "       4485, 4748, 1329, 2226, 1272,    6, 2226, 2065, 2479, 4004, 4815,\n",
              "       4156,  689, 2341, 3389,  739, 1702, 4627, 1993, 2341,  689,  151,\n",
              "       2277, 3827, 1147, 3539, 1043, 4333, 3421], dtype=int32)"
            ]
          },
          "metadata": {},
          "execution_count": 28
        }
      ],
      "source": [
        "X_final[1]"
      ]
    },
    {
      "cell_type": "code",
      "execution_count": 29,
      "metadata": {
        "execution": {
          "iopub.execute_input": "2022-04-21T08:00:41.433075Z",
          "iopub.status.busy": "2022-04-21T08:00:41.432123Z",
          "iopub.status.idle": "2022-04-21T08:00:41.448852Z",
          "shell.execute_reply": "2022-04-21T08:00:41.447622Z",
          "shell.execute_reply.started": "2022-04-21T08:00:41.433010Z"
        },
        "id": "j6vOwJDT_9y0"
      },
      "outputs": [],
      "source": [
        "from sklearn.model_selection import train_test_split\n",
        "X_train, X_test, y_train, y_test = train_test_split(X_final, y_final, test_size=0.25, random_state=32)"
      ]
    },
    {
      "cell_type": "code",
      "execution_count": 31,
      "metadata": {
        "execution": {
          "iopub.execute_input": "2022-04-21T08:01:01.343235Z",
          "iopub.status.busy": "2022-04-21T08:01:01.342841Z"
        },
        "colab": {
          "base_uri": "https://localhost:8080/"
        },
        "id": "u8GYAL8-_9y1",
        "outputId": "40a659a4-ce61-49dd-f699-5fa7beb04d0e"
      },
      "outputs": [
        {
          "output_type": "stream",
          "name": "stdout",
          "text": [
            "Epoch 1/10\n",
            "178/178 [==============================] - 80s 451ms/step - loss: 0.1820 - accuracy: 0.9561 - val_loss: 0.2171 - val_accuracy: 0.9442\n",
            "Epoch 2/10\n",
            "178/178 [==============================] - 79s 445ms/step - loss: 0.1817 - accuracy: 0.9561 - val_loss: 0.2158 - val_accuracy: 0.9442\n",
            "Epoch 3/10\n",
            "178/178 [==============================] - 80s 450ms/step - loss: 0.1814 - accuracy: 0.9561 - val_loss: 0.2179 - val_accuracy: 0.9442\n",
            "Epoch 4/10\n",
            "178/178 [==============================] - 98s 549ms/step - loss: 0.1811 - accuracy: 0.9561 - val_loss: 0.2172 - val_accuracy: 0.9442\n",
            "Epoch 5/10\n",
            "178/178 [==============================] - 94s 527ms/step - loss: 0.1681 - accuracy: 0.9561 - val_loss: 0.1956 - val_accuracy: 0.9442\n",
            "Epoch 6/10\n",
            "178/178 [==============================] - 88s 494ms/step - loss: 0.1341 - accuracy: 0.9617 - val_loss: 0.1852 - val_accuracy: 0.9521\n",
            "Epoch 7/10\n",
            "178/178 [==============================] - 82s 462ms/step - loss: 0.1083 - accuracy: 0.9678 - val_loss: 0.1741 - val_accuracy: 0.9529\n",
            "Epoch 8/10\n",
            "178/178 [==============================] - 80s 448ms/step - loss: 0.1057 - accuracy: 0.9688 - val_loss: 0.1842 - val_accuracy: 0.9523\n",
            "Epoch 9/10\n",
            "178/178 [==============================] - 79s 444ms/step - loss: 0.0940 - accuracy: 0.9745 - val_loss: 0.2082 - val_accuracy: 0.9413\n",
            "Epoch 10/10\n",
            "178/178 [==============================] - 82s 462ms/step - loss: 0.0847 - accuracy: 0.9779 - val_loss: 0.2366 - val_accuracy: 0.9289\n"
          ]
        },
        {
          "output_type": "execute_result",
          "data": {
            "text/plain": [
              "<keras.callbacks.History at 0x7fd3a12a1c50>"
            ]
          },
          "metadata": {},
          "execution_count": 31
        }
      ],
      "source": [
        "model1.fit(X_train,y_train,validation_data=(X_test,y_test),epochs=10,batch_size=64)"
      ]
    },
    {
      "cell_type": "markdown",
      "metadata": {
        "id": "Q5yQkSlY_9y1"
      },
      "source": [
        "## Model Performance and Accuracy:"
      ]
    },
    {
      "cell_type": "code",
      "execution_count": 33,
      "metadata": {
        "colab": {
          "base_uri": "https://localhost:8080/"
        },
        "id": "bw5dZhK1_9y1",
        "outputId": "10ddd6c9-cc94-4955-ae9f-dd38816695a5"
      },
      "outputs": [
        {
          "output_type": "stream",
          "name": "stdout",
          "text": [
            "119/119 [==============================] - 12s 85ms/step\n"
          ]
        }
      ],
      "source": [
        "y_pred=model1.predict(X_test)"
      ]
    },
    {
      "cell_type": "markdown",
      "source": [
        "We Look our dataset is Inbalance.So we use here balanced_accuracy_score"
      ],
      "metadata": {
        "id": "Mk-8EwfdP6o4"
      }
    },
    {
      "cell_type": "code",
      "source": [
        "from sklearn.metrics import balanced_accuracy_score\n",
        "print(balanced_accuracy_score(y_test,y_pred))"
      ],
      "metadata": {
        "id": "cVg-6ixMP35P"
      },
      "execution_count": null,
      "outputs": []
    },
    {
      "cell_type": "code",
      "execution_count": null,
      "metadata": {
        "id": "361qLcxr_9y2"
      },
      "outputs": [],
      "source": []
    }
  ],
  "metadata": {
    "kernelspec": {
      "display_name": "Python 3",
      "language": "python",
      "name": "python3"
    },
    "language_info": {
      "codemirror_mode": {
        "name": "ipython",
        "version": 3
      },
      "file_extension": ".py",
      "mimetype": "text/x-python",
      "name": "python",
      "nbconvert_exporter": "python",
      "pygments_lexer": "ipython3",
      "version": "3.8.8"
    },
    "colab": {
      "provenance": []
    }
  },
  "nbformat": 4,
  "nbformat_minor": 0
}